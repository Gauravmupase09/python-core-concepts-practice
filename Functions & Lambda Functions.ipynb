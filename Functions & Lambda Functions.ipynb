{
 "cells": [
  {
   "cell_type": "code",
   "execution_count": 1,
   "id": "dea6faa1",
   "metadata": {},
   "outputs": [
    {
     "name": "stdout",
     "output_type": "stream",
     "text": [
      "3 is a prime number.\n"
     ]
    }
   ],
   "source": [
    "# Check Prime Number Function\n",
    "\n",
    "def is_prime(n):\n",
    "    if n <= 1:\n",
    "        return False\n",
    "    for i in range(2, n):\n",
    "        if n % i == 0:\n",
    "            return False\n",
    "    return True\n",
    "\n",
    "num = int(input(\"Enter a number: \"))\n",
    "\n",
    "if is_prime(num):\n",
    "    print(f\"{num} is a prime number.\")\n",
    "else:\n",
    "    print(f\"{num} is not a prime number.\")"
   ]
  },
  {
   "cell_type": "code",
   "execution_count": 10,
   "id": "10eab5aa",
   "metadata": {},
   "outputs": [
    {
     "name": "stdout",
     "output_type": "stream",
     "text": [
      "The sum of the list [1, 2, 3, 4, 5] is 15.\n"
     ]
    }
   ],
   "source": [
    "# Sum of List Elements\n",
    "\n",
    "def sum_of_list(lst):\n",
    "    total = 0\n",
    "    for number in lst:\n",
    "        total += number\n",
    "    return total\n",
    "\n",
    "# list_of_numbers = list(map(int, input(\"Enter a list of numbers separated by spaces: \").split()))\n",
    "list_of_numbers = [1, 2, 3, 4, 5] #example list\n",
    "\n",
    "print(f\"The sum of the list {list_of_numbers} is {sum_of_list(list_of_numbers)}.\")\n"
   ]
  },
  {
   "cell_type": "code",
   "execution_count": 9,
   "id": "a24c609a",
   "metadata": {},
   "outputs": [
    {
     "name": "stdout",
     "output_type": "stream",
     "text": [
      "The maximum value in the list [1, 2, 3, 4, 5] is 5\n"
     ]
    }
   ],
   "source": [
    "# Max of List Elements\n",
    "\n",
    "def max_of_list(lst):\n",
    "    max_value = lst[0]\n",
    "    for number in lst:\n",
    "        if number > max_value:\n",
    "            max_value = number\n",
    "    return max_value\n",
    "\n",
    "# list_of_numbers = list(map(int, input(\"Enter a list on numbers separated by spaces: \"))).split()\n",
    "list_of_numbers = [1, 2, 3, 4, 5] #example list\n",
    "\n",
    "print(f\"The maximum value in the list {list_of_numbers} is {max_of_list(list_of_numbers)}\")\n",
    "\n"
   ]
  },
  {
   "cell_type": "code",
   "execution_count": 10,
   "id": "9c0996e8",
   "metadata": {},
   "outputs": [
    {
     "name": "stdout",
     "output_type": "stream",
     "text": [
      "121 is a palindrome.\n"
     ]
    }
   ],
   "source": [
    "# Palindrome Checker Function\n",
    "\n",
    "def is_palindrome(str):\n",
    "    str == str[::-1]\n",
    "    return True\n",
    "\n",
    "string = input(\"Enter a string to check if it is a palindrome:\")\n",
    "\n",
    "if is_palindrome(string):\n",
    "    print(f\"{string} is a palindrome.\")\n",
    "else:\n",
    "    print(f\"{string} is not a palindrome.\")\n",
    "\n",
    "# class PalindromeChecker:\n",
    "#     def __init__(self, intiger):\n",
    "#         self.intiger = intiger\n",
    "#     def is_palindrome(self):\n",
    "#         str_num = str(self.intiger)\n",
    "#         return str_num == str_num[::-1]\n",
    "    \n",
    "# number = int(input(\"Enter a number to check if it is a palindrome: \"))\n",
    "# checker = PalindromeChecker(number)\n",
    "# if checker.is_palindrome():\n",
    "#     print(f\"{number} is a palindrome.\")\n",
    "\n",
    "# class Solution:\n",
    "#     def isPalindrome(self, x):\n",
    "#         str_num = str(x)\n",
    "#         return str_num == str_num[::-1]\n",
    "    \n",
    "# number = int(input(\"Enter a number to check if it is a palindrome: \"))\n",
    "# solution = Solution()\n",
    "# if solution.isPalindrome(number):\n",
    "#     print(f\"{number} is a palindrome.\")"
   ]
  },
  {
   "cell_type": "code",
   "execution_count": 7,
   "id": "906dfd7b",
   "metadata": {},
   "outputs": [
    {
     "name": "stdout",
     "output_type": "stream",
     "text": [
      "The maximum value from 2 & 4 is 4.\n"
     ]
    }
   ],
   "source": [
    "# Find Maximum Using Lambda\n",
    "\n",
    "A, B = map(int, input(\"Enter two numbers separated by space: \").split())\n",
    "\n",
    "max_value = lambda a, b: a if a > b else B\n",
    "\n",
    "print(f\"The maximum value from {A} & {B} is {max_value(A, B)}.\")"
   ]
  },
  {
   "cell_type": "code",
   "execution_count": 18,
   "id": "25cec71f",
   "metadata": {},
   "outputs": [
    {
     "name": "stdout",
     "output_type": "stream",
     "text": [
      "The even numbers in the list [1, 2, 3, 4, 5, 6, 7, 8, 9, 10] are: [2, 4, 6, 8, 10]\n"
     ]
    }
   ],
   "source": [
    "# Even Numbers Using Lambda and Filter\n",
    "\n",
    "\n",
    "# number = list(map(int, input(\"Enter a list of numbers separated by spaces: \").split()))\n",
    "number = [1, 2, 3, 4, 5, 6, 7, 8, 9, 10] #example list\n",
    "\n",
    "even_numbers = list(filter(lambda x: x % 2 == 0, number))\n",
    "\n",
    "print(f\"The even numbers in the list {number} are: {even_numbers}\")"
   ]
  }
 ],
 "metadata": {
  "kernelspec": {
   "display_name": "Python 3",
   "language": "python",
   "name": "python3"
  },
  "language_info": {
   "codemirror_mode": {
    "name": "ipython",
    "version": 3
   },
   "file_extension": ".py",
   "mimetype": "text/x-python",
   "name": "python",
   "nbconvert_exporter": "python",
   "pygments_lexer": "ipython3",
   "version": "3.12.1"
  }
 },
 "nbformat": 4,
 "nbformat_minor": 5
}
