{
 "cells": [
  {
   "cell_type": "code",
   "execution_count": 2,
   "id": "e35af5ee",
   "metadata": {},
   "outputs": [
    {
     "name": "stdout",
     "output_type": "stream",
     "text": [
      "To calculate area of rectangle\n",
      "The area of rectangle is --->  6.0\n"
     ]
    }
   ],
   "source": [
    "# Calculate the area of a rectangle\n",
    "\n",
    "print(\"To calculate area of rectangle\")\n",
    "\n",
    "Length = float(input(\"Enter length of rectangle: \"))\n",
    "Width = float(input(\"Enter width of rectangle: \"))\n",
    "\n",
    "Area_of_rectangle = Length * Width\n",
    "\n",
    "print(\"The area of rectangle is ---> \",Area_of_rectangle)"
   ]
  },
  {
   "cell_type": "code",
   "execution_count": 6,
   "id": "25198141",
   "metadata": {},
   "outputs": [
    {
     "name": "stdout",
     "output_type": "stream",
     "text": [
      "To swap two numbers\n",
      "After swapping, first number is --->  4\n",
      "After swapping, second number is --->  2\n"
     ]
    }
   ],
   "source": [
    "# Swap two numbers using a third variable\n",
    "\n",
    "print(\"To swap two numbers\")\n",
    "\n",
    "A = int(input(\"Enter first number: \"))\n",
    "B = int(input(\"Enter second number: \"))\n",
    "\n",
    "temp_var = A\n",
    "A = B\n",
    "B = temp_var\n",
    "\n",
    "print(\"After swapping, first number is ---> \", A)\n",
    "print(\"After swapping, second number is ---> \", B)"
   ]
  },
  {
   "cell_type": "code",
   "execution_count": 17,
   "id": "10ee3017",
   "metadata": {},
   "outputs": [
    {
     "name": "stdout",
     "output_type": "stream",
     "text": [
      "To convert temperature between Celsius and Fahrenheit\n",
      "The conversion of 25.0°C into °F is 77.0°F\n"
     ]
    }
   ],
   "source": [
    "# Temperature Converter (Celsius ⇆ Fahrenheit)\n",
    "\n",
    "print(\"To convert temperature between Celsius and Fahrenheit\")\n",
    "\n",
    "\n",
    "def celsius_to_fahrenheit(celsius):\n",
    "   return (celsius * 9/5) + 32\n",
    "\n",
    "def fahrenheit_to_celsius(fahrenheit):\n",
    "    return (fahrenheit - 32) * 5/9\n",
    "\n",
    "unit = input(\"Is this temperature in Celsius or Fahrenheit? (C/F): \").strip().upper()\n",
    "\n",
    "if unit == 'C':\n",
    "    target_unit = 'F'\n",
    "elif unit == 'F':\n",
    "    target_unit = 'C'\n",
    "else:\n",
    "    target_unit = None\n",
    "\n",
    "if target_unit:\n",
    "    temp = float(input(f\"Enter temperature to convert from {unit}° to {target_unit}°: \"))\n",
    "    if unit == 'C':\n",
    "        converted_temp = celsius_to_fahrenheit(temp)\n",
    "        print(f\"The conversion of {temp}°C into °F is {converted_temp}°F\")\n",
    "    elif unit == 'F':\n",
    "        converted_temp = fahrenheit_to_celsius(temp)\n",
    "        print(f\"The conversion of {temp}°F into °C is {converted_temp}°C\")\n",
    "else:\n",
    "    print(\"Invalid unit! Please enter 'C' for Celsius or 'F' for Fahrenheit.\")\n",
    "    "
   ]
  },
  {
   "cell_type": "code",
   "execution_count": 19,
   "id": "cb9a95f1",
   "metadata": {},
   "outputs": [
    {
     "name": "stdout",
     "output_type": "stream",
     "text": [
      "To print your name in reverse\n",
      "Your name in reverse is --->  varuag\n"
     ]
    }
   ],
   "source": [
    "# String Manipulation: Print name in reverse\n",
    "\n",
    "print(\"To print your name in reverse\")\n",
    "\n",
    "name = input(\"Enter your name: \")\n",
    "\n",
    "reversed_name = name[::-1]\n",
    "\n",
    "print(\"Your name in reverse is ---> \", reversed_name)"
   ]
  },
  {
   "cell_type": "code",
   "execution_count": 1,
   "id": "0f923625",
   "metadata": {},
   "outputs": [
    {
     "name": "stdout",
     "output_type": "stream",
     "text": [
      "To check the data type of a variable\n",
      "The data type of the variable is --->  str\n"
     ]
    }
   ],
   "source": [
    "# Check Data Type: Dynamically check data type\n",
    "\n",
    "print(\"To check the data type of a variable\")\n",
    "\n",
    "variable = input(\"Enter a value: \")\n",
    "try:\n",
    "    # Try to convert to integer\n",
    "    variable = int(variable)\n",
    "except ValueError:\n",
    "    try:\n",
    "        # Try to convert to float\n",
    "        variable = float(variable)\n",
    "    except ValueError:\n",
    "        # If both conversions fail, it's a string\n",
    "        variable = str(variable)\n",
    "print(\"The data type of the variable is ---> \", type(variable).__name__)"
   ]
  }
 ],
 "metadata": {
  "kernelspec": {
   "display_name": "Python 3",
   "language": "python",
   "name": "python3"
  },
  "language_info": {
   "codemirror_mode": {
    "name": "ipython",
    "version": 3
   },
   "file_extension": ".py",
   "mimetype": "text/x-python",
   "name": "python",
   "nbconvert_exporter": "python",
   "pygments_lexer": "ipython3",
   "version": "3.12.1"
  }
 },
 "nbformat": 4,
 "nbformat_minor": 5
}
