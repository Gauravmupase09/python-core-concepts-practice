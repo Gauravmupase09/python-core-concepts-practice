{
 "cells": [
  {
   "cell_type": "code",
   "execution_count": null,
   "id": "71573a7e",
   "metadata": {},
   "outputs": [
    {
     "name": "stdout",
     "output_type": "stream",
     "text": [
      "Name: Gaurav, Age: 23\n"
     ]
    }
   ],
   "source": [
    "# Create a Person Class: With attributes name, age, and a method to display details.\n",
    "\n",
    "class Person:\n",
    "    \n",
    "    def __init__(self, name, age):\n",
    "        self.name = name\n",
    "        self.age = age\n",
    "\n",
    "    def display_details(self):\n",
    "        print(f\"Name: {self.name}, Age: {self.age}\")\n",
    "\n",
    "\n",
    "\n",
    "# Example usage\n",
    "if __name__ == \"__main__\":\n",
    "    person1 = Person(\"Gaurav\", 23)\n",
    "    person1.display_details()\n"
   ]
  },
  {
   "cell_type": "code",
   "execution_count": null,
   "id": "e6219987",
   "metadata": {},
   "outputs": [
    {
     "name": "stdout",
     "output_type": "stream",
     "text": [
      "Addition: 15\n",
      "Subtraction: 5\n",
      "Multiplication: 50\n",
      "Division: 2.0\n",
      "Division by zero: Cannot divide by zero\n"
     ]
    }
   ],
   "source": [
    "# Simple Calculator Class: Using methods for add, subtract, multiply, divide.\n",
    "\n",
    "class Simpl_Calculator:\n",
    "\n",
    "    def add(self, a, b):\n",
    "        return a + b\n",
    "    def substract(self, a, b):\n",
    "        return a - b\n",
    "    def multiply(self, a, b):\n",
    "        return a * b\n",
    "    def divide(self, a, b):\n",
    "        return a / b if b != 0 else \"Cannot divide by zero\"\n",
    "    \n",
    "# Example usage\n",
    "if __name__ == \"__main__\":\n",
    "    calc = Simpl_Calculator()\n",
    "    print(\"Addition:\", calc.add(10, 5))\n",
    "    print(\"Subtraction:\", calc.substract(10, 5))\n",
    "    print(\"Multiplication:\", calc.multiply(10, 5))\n",
    "    print(\"Division:\", calc.divide(10, 5))\n",
    "    print(\"Division by zero:\", calc.divide(10, 0))"
   ]
  },
  {
   "cell_type": "code",
   "execution_count": null,
   "id": "8e2dfa55",
   "metadata": {},
   "outputs": [
    {
     "name": "stdout",
     "output_type": "stream",
     "text": [
      "Deposited 1000. New balance: 1000\n",
      "Withdrew 500. New balance: 500\n",
      "Insufficient funds.\n",
      "Account number mismatch.\n"
     ]
    }
   ],
   "source": [
    "# Bank Account Simulation: Class with deposit and withdraw methods.\n",
    "\n",
    "class Bank_Account:\n",
    "\n",
    "    def __init__(self,account_number, balance = 0):\n",
    "        self.account_number = account_number\n",
    "        self.balance =  balance\n",
    "    \n",
    "    def deposite(self, account_number, amount):\n",
    "        if account_number == self.account_number:\n",
    "            self.balance += amount\n",
    "            print(f\"Deposited {amount}. New balance: {self.balance}\")\n",
    "        else:\n",
    "            print(\"Account number mismatch.\")\n",
    "\n",
    "    def withdraw(self, account_number, amount):\n",
    "        if account_number == self.account_number:\n",
    "            if amount <= self.balance:\n",
    "                self.balance -= amount\n",
    "                print(f\"Withdrew {amount}. New balance: {self.balance}\")\n",
    "            else:\n",
    "                print(\"Insufficient funds.\")\n",
    "        else:\n",
    "            print(\"Account number mismatch.\")\n",
    "\n",
    "\n",
    "# Example usage\n",
    "if __name__ == \"__main__\":\n",
    "    account = Bank_Account(\"123456789\")\n",
    "    account.deposite(\"123456789\", 1000)\n",
    "    account.withdraw(\"123456789\", 500)\n",
    "    account.withdraw(\"123456789\", 600)\n",
    "    account.deposite(\"987654321\", 200)"
   ]
  },
  {
   "cell_type": "code",
   "execution_count": 10,
   "id": "93e817a0",
   "metadata": {},
   "outputs": [
    {
     "name": "stdout",
     "output_type": "stream",
     "text": [
      "Name: Alice, Average Marks: 84.33\n",
      "Name: Bob, Average Marks: 75.00\n"
     ]
    }
   ],
   "source": [
    "# Student Class with Marks: Calculate average marks using a method.\n",
    "\n",
    "class Student:\n",
    "    def __init__(self, name, marks):\n",
    "        self.name = name\n",
    "        self.marks = marks\n",
    "\n",
    "    def average_marks(self):\n",
    "        return sum(self.marks) / len(self.marks) if self.marks else 0\n",
    "    def display_details(self):\n",
    "        print(f\"Name: {self.name}, Average Marks: {self.average_marks():.2f}\")\n",
    "\n",
    "# Example usage\n",
    "if __name__ == \"__main__\":\n",
    "    student1 = Student(\"Alice\", [85, 90, 78])\n",
    "    student1.display_details()\n",
    "    student2 = Student(\"Bob\", [70, 75, 80])\n",
    "    student2.display_details()"
   ]
  }
 ],
 "metadata": {
  "kernelspec": {
   "display_name": "Python 3",
   "language": "python",
   "name": "python3"
  },
  "language_info": {
   "codemirror_mode": {
    "name": "ipython",
    "version": 3
   },
   "file_extension": ".py",
   "mimetype": "text/x-python",
   "name": "python",
   "nbconvert_exporter": "python",
   "pygments_lexer": "ipython3",
   "version": "3.12.1"
  }
 },
 "nbformat": 4,
 "nbformat_minor": 5
}
