{
 "cells": [
  {
   "cell_type": "code",
   "execution_count": 2,
   "id": "a82bcff5",
   "metadata": {},
   "outputs": [
    {
     "name": "stdout",
     "output_type": "stream",
     "text": [
      "2 is even.\n"
     ]
    }
   ],
   "source": [
    "# Odd or Even Checker\n",
    "\n",
    "def is_even(num):\n",
    "    if num % 2 == 0:\n",
    "        print(f\"{num} is even.\")\n",
    "    else:\n",
    "        print(f\"{num} is odd.\")\n",
    "\n",
    "number = int(input(\"Enter an integer: \"))\n",
    "\n",
    "is_even(number)"
   ]
  },
  {
   "cell_type": "code",
   "execution_count": 7,
   "id": "a060d9bc",
   "metadata": {},
   "outputs": [
    {
     "name": "stdout",
     "output_type": "stream",
     "text": [
      "3 is the largest number.\n"
     ]
    }
   ],
   "source": [
    "# Largest of Three Numbers\n",
    "\n",
    "def largest_of_three(a, b, c):\n",
    "    if a >= b and a >= c:\n",
    "        print(f\"{a} is the largest number.\")\n",
    "    elif b >= a and b >= c:\n",
    "        print(f\"{b} is the largest number.\")\n",
    "    else:\n",
    "        print(f\"{c} is the largest number.\")\n",
    "\n",
    "A, B, C = map(int, input(\"Enter three integers separated by spaces: \").split())\n",
    "\n",
    "largest_of_three(A, B, C)"
   ]
  },
  {
   "cell_type": "code",
   "execution_count": 15,
   "id": "d1a301b8",
   "metadata": {},
   "outputs": [
    {
     "name": "stdout",
     "output_type": "stream",
     "text": [
      "A is a vowel.\n"
     ]
    }
   ],
   "source": [
    "# Vowel or Consonant\n",
    "\n",
    "def is_vowel(char):\n",
    "    if char.isalpha() and len(char) == 1:\n",
    "        vowels = 'aeiouAEIOU'\n",
    "        if char in vowels:\n",
    "            print(f\"{char} is a vowel.\")\n",
    "        else:            \n",
    "            print(f\"{char} is a consonant.\")\n",
    "    else:\n",
    "        print(\"Invalid input. Please enter a single character.\")\n",
    "        \n",
    "\n",
    "char = input(\"Enter a single character: \")\n",
    "\n",
    "is_vowel(char)"
   ]
  },
  {
   "cell_type": "code",
   "execution_count": 18,
   "id": "d635e318",
   "metadata": {},
   "outputs": [
    {
     "name": "stdout",
     "output_type": "stream",
     "text": [
      "You are a minor.\n"
     ]
    }
   ],
   "source": [
    "# Age Category Checker\n",
    "\n",
    "def age_category(age):\n",
    "    if age < 0:\n",
    "        print(\"Invalid age. Age cannot be negative.\")\n",
    "    elif age > 0 and age <= 18:\n",
    "        print(\"You are a minor.\")\n",
    "    elif age > 18 and age <=65:\n",
    "        print(\"You are an adult.\")\n",
    "    else:\n",
    "        print(\"You are a senior citizen.\")\n",
    "\n",
    "age = int(input(\"Enter your age: \"))\n",
    "\n",
    "age_category(age)"
   ]
  },
  {
   "cell_type": "code",
   "execution_count": null,
   "id": "f0977dd3",
   "metadata": {},
   "outputs": [
    {
     "name": "stdout",
     "output_type": "stream",
     "text": [
      "Select operation:\n",
      "1. + (Addition)\n",
      "2. - (Subtraction)\n",
      "3. * (Multiplication)\n",
      "4. / (Division)\n",
      "1.0 + 2.0 = 3.0\n"
     ]
    }
   ],
   "source": [
    "# Simple Calculator\n",
    "\n",
    "def simple_calculator(a, b):\n",
    "    print(\"Select operation:\")\n",
    "    print(\"1. + (Addition)\")\n",
    "    print(\"2. - (Subtraction)\")\n",
    "    print(\"3. * (Multiplication)\")  \n",
    "    print(\"4. / (Division)\")\n",
    "\n",
    "    choice = input(\"Enter choice (1/2/3/4): \")\n",
    "\n",
    "    if choice == '1' or choice == \"+\":\n",
    "        print(f\"{a} + {b} = {a + b}\")\n",
    "    elif choice == '2' or choice == \"-\":\n",
    "        print(f\"{a} - {b} = {a - b}\")\n",
    "    elif choice == '3' or choice == \"*\":\n",
    "        print(f\"{a} * {b} = {a * b}\")\n",
    "    elif choice == '4' or choice == \"/\":\n",
    "        if b != 0:\n",
    "            print(f\"{a} / {b} = {a / b}\")\n",
    "        else:\n",
    "            print(\"Error! Division by zero.\")\n",
    "\n",
    "A, B = map(float, input(\"Enter two numbers for your operation separated by space: \").split())\n",
    "\n",
    "simple_calculator(A, B)"
   ]
  }
 ],
 "metadata": {
  "kernelspec": {
   "display_name": "Python 3",
   "language": "python",
   "name": "python3"
  },
  "language_info": {
   "codemirror_mode": {
    "name": "ipython",
    "version": 3
   },
   "file_extension": ".py",
   "mimetype": "text/x-python",
   "name": "python",
   "nbconvert_exporter": "python",
   "pygments_lexer": "ipython3",
   "version": "3.12.1"
  }
 },
 "nbformat": 4,
 "nbformat_minor": 5
}
