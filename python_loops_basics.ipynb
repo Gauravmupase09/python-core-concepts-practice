{
 "cells": [
  {
   "cell_type": "code",
   "execution_count": 1,
   "id": "42f266e7",
   "metadata": {},
   "outputs": [
    {
     "name": "stdout",
     "output_type": "stream",
     "text": [
      "The sum of the first 10 numbers is: 55\n"
     ]
    }
   ],
   "source": [
    "#  Sum of First N Numbers (Using While Loop)\n",
    "\n",
    "def sum_of_first_n_numbers(n):\n",
    "    total = 0\n",
    "    i = 1\n",
    "    while i <= n:\n",
    "        total += i\n",
    "        i += 1\n",
    "    return total\n",
    "\n",
    "n = int(input(\"Enter a positive integer: \"))\n",
    "\n",
    "if n < 1:\n",
    "    print(\"Please enter a positive integer greater than 0.\")\n",
    "else:\n",
    "    result = sum_of_first_n_numbers(n)\n",
    "    print(f\"The sum of the first {n} numbers is: {result}\")"
   ]
  },
  {
   "cell_type": "code",
   "execution_count": 2,
   "id": "afd4eb70",
   "metadata": {},
   "outputs": [
    {
     "name": "stdout",
     "output_type": "stream",
     "text": [
      "Multiplication Table for 2:\n",
      "2 x 1 = 2\n",
      "2 x 2 = 4\n",
      "2 x 3 = 6\n",
      "2 x 4 = 8\n",
      "2 x 5 = 10\n",
      "2 x 6 = 12\n",
      "2 x 7 = 14\n",
      "2 x 8 = 16\n",
      "2 x 9 = 18\n",
      "2 x 10 = 20\n"
     ]
    }
   ],
   "source": [
    "# Print Multiplication Table (Using For Loop)\n",
    "\n",
    "def print_multiplication_table(n):\n",
    "    print(f\"Multiplication Table for {n}:\")\n",
    "    for i in range(1, 11):\n",
    "        print(f\"{n} x {i} = {n * i}\")\n",
    "\n",
    "num = int(input(\"Enter a number to print its multiplication table: \"))\n",
    "\n",
    "if num < 1:\n",
    "    print(\"Please enter a positive integer greater than 0.\")\n",
    "else:\n",
    "    print_multiplication_table(num)"
   ]
  },
  {
   "cell_type": "code",
   "execution_count": 3,
   "id": "6f34670d",
   "metadata": {},
   "outputs": [
    {
     "name": "stdout",
     "output_type": "stream",
     "text": [
      "The reversed string is: varuag\n"
     ]
    }
   ],
   "source": [
    "# Reverse a String (Without Built-in Functions)\n",
    "\n",
    "def reverse_string(s):\n",
    "    reversed_str = \"\"\n",
    "    for char in s:\n",
    "        reversed_str = char + reversed_str\n",
    "    return reversed_str\n",
    "\n",
    "string_to_reverse = input(\"Enter a string to reverse: \")\n",
    "\n",
    "if not string_to_reverse:\n",
    "    print(\"Please enter a non-empty string.\")\n",
    "else:\n",
    "    reversed_result = reverse_string(string_to_reverse)\n",
    "    print(f\"The reversed string is: {reversed_result}\")"
   ]
  },
  {
   "cell_type": "code",
   "execution_count": 4,
   "id": "399294f4",
   "metadata": {},
   "outputs": [
    {
     "name": "stdout",
     "output_type": "stream",
     "text": [
      "The factorial of 5 is: 120\n"
     ]
    }
   ],
   "source": [
    "# Factorial of a Number (Using While or For Loop)\n",
    "\n",
    "def factorial(n):\n",
    "    factorial = 1\n",
    "    for i in range(1, n + 1):\n",
    "        factorial *= i\n",
    "    return factorial\n",
    "\n",
    "number = int(input(\"Enter a non-negative integer to calculate its factorial: \"))\n",
    "\n",
    "if number < 0:\n",
    "    print(\"Please enter a non-negative integer.\")\n",
    "else:\n",
    "    factorial_result = factorial(number)\n",
    "    print(f\"The factorial of {number} is: {factorial_result}\")"
   ]
  },
  {
   "cell_type": "code",
   "execution_count": 5,
   "id": "bf865318",
   "metadata": {},
   "outputs": [
    {
     "name": "stdout",
     "output_type": "stream",
     "text": [
      "*\n",
      "**\n",
      "***\n",
      "****\n",
      "*****\n"
     ]
    }
   ],
   "source": [
    "#  Print Pattern (Triangle/Star)\n",
    "\n",
    "def print_triangle_pattern(n):\n",
    "    for i in range(1, n + 1):\n",
    "        print('*' * i)\n",
    "\n",
    "n = int(input(\"Enter the number of rows for the triangle pattern: \"))\n",
    "\n",
    "if n < 1:\n",
    "    print(\"Please enter a positive integer greater than 0.\")\n",
    "else:\n",
    "    print_triangle_pattern(n)"
   ]
  },
  {
   "cell_type": "code",
   "execution_count": 6,
   "id": "42a3abdd",
   "metadata": {},
   "outputs": [
    {
     "name": "stdout",
     "output_type": "stream",
     "text": [
      "*****\n",
      "****\n",
      "***\n",
      "**\n",
      "*\n"
     ]
    }
   ],
   "source": [
    "#  Print Pattern (Triangle/Star)\n",
    "\n",
    "def print_upside_down_triangle_pattern(n):\n",
    "    for i in range(n, 0, -1):\n",
    "        print('*' * i)\n",
    "\n",
    "n = int(input(\"Enter the number of rows for the triangle pattern: \"))\n",
    "\n",
    "if n < 1:\n",
    "    print(\"Please enter a positive integer greater than 0.\")\n",
    "else:\n",
    "    print_upside_down_triangle_pattern(n)"
   ]
  }
 ],
 "metadata": {
  "kernelspec": {
   "display_name": "Python 3",
   "language": "python",
   "name": "python3"
  },
  "language_info": {
   "codemirror_mode": {
    "name": "ipython",
    "version": 3
   },
   "file_extension": ".py",
   "mimetype": "text/x-python",
   "name": "python",
   "nbconvert_exporter": "python",
   "pygments_lexer": "ipython3",
   "version": "3.12.1"
  }
 },
 "nbformat": 4,
 "nbformat_minor": 5
}
