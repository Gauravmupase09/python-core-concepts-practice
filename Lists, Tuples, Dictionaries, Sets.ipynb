{
 "cells": [
  {
   "cell_type": "code",
   "execution_count": 1,
   "id": "e35451bf",
   "metadata": {},
   "outputs": [
    {
     "name": "stdout",
     "output_type": "stream",
     "text": [
      "The maximum value in the list [1, 2, 3, 4, 5] is 5\n"
     ]
    }
   ],
   "source": [
    "# Find the Largest Element in a List (Without max())\n",
    "\n",
    "def max_of_list(lst):\n",
    "    max_value = lst[0]\n",
    "    for number in lst:\n",
    "        if number > max_value:\n",
    "            max_value = number\n",
    "    return max_value\n",
    "\n",
    "# list_of_numbers = list(map(int, input(\"Enter a list on numbers separated by spaces: \"))).split()\n",
    "list_of_numbers = [1, 2, 3, 4, 5] #example list\n",
    "\n",
    "print(f\"The maximum value in the list {list_of_numbers} is {max_of_list(list_of_numbers)}\")"
   ]
  },
  {
   "cell_type": "code",
   "execution_count": 5,
   "id": "a95ee02b",
   "metadata": {},
   "outputs": [
    {
     "name": "stdout",
     "output_type": "stream",
     "text": [
      "The second largest value in the list [1, 2, 3, 4, 5] is 4\n"
     ]
    }
   ],
   "source": [
    "# Find the Second Largest Element in a List (Without max())\n",
    "\n",
    "def second_largest_number(lst):\n",
    "    largest_num = lst[0]\n",
    "    second_largest = 0\n",
    "    for number in lst:\n",
    "        if number > largest_num:\n",
    "            second_largest = largest_num\n",
    "            largest_num = number\n",
    "        elif number > second_largest and number != largest_num:\n",
    "            second_largest = number\n",
    "    return second_largest\n",
    "    \n",
    "list_of_numbers = [1, 2, 3, 4, 5] #example list\n",
    "\n",
    "print(f\"The second largest value in the list {list_of_numbers} is {second_largest_number(list_of_numbers)}\")"
   ]
  },
  {
   "cell_type": "code",
   "execution_count": null,
   "id": "49ee69c1",
   "metadata": {},
   "outputs": [
    {
     "name": "stdout",
     "output_type": "stream",
     "text": [
      "The indices of the two numbers in the list [3, 2, 4] that add up to 6 are: (1, 2)\n"
     ]
    }
   ],
   "source": [
    "# Find the Indices of Two Numbers in a List that Add Up to a Target Value\n",
    "\n",
    "# lst = [2, 7, 11, 15] #example list\n",
    "lst = [3, 2, 4] #example list\n",
    "# lst = [3, 3] #example list\n",
    "\n",
    "\n",
    "# target = 9\n",
    "target = 6\n",
    "\n",
    "\n",
    "def two_sum(lst, target):\n",
    "    index = []\n",
    "    for i in range(len(lst)):\n",
    "        for j in range(i + 1, len(lst)):\n",
    "            if lst[i] + lst[j] == target:\n",
    "                return (i, j)\n",
    "\n",
    "print(f\"The indices of the two numbers in the list {lst} that add up to {target} are: {two_sum(lst, target)}\")\n",
    "\n",
    "# def two_sum(lst, target):\n",
    "#     index = 0\n",
    "#     for i in range(len(lst)):\n",
    "#         for j in range(len(lst)):\n",
    "#             if i != j and lst[i] + lst[j] == target:\n",
    "#                 index = (i, j)\n",
    "#                 return index\n",
    "\n",
    "# nums = [2, 7, 11, 15]  # example list\n",
    "# # lst = [3, 2, 4]  # example list\n",
    "# # lst = [3, 3]  # example list\n",
    "\n",
    "# target = 9\n",
    "# # target = 6\n",
    "\n",
    "# class Solution:\n",
    "#     def twoSum(self, nums, target):\n",
    "#         for i in range(len(nums)):\n",
    "#             for j in range(i + 1, len(nums)):\n",
    "#                 if nums[i] + nums[j] == target:\n",
    "#                     return [i, j]"
   ]
  },
  {
   "cell_type": "code",
   "execution_count": 19,
   "id": "45c998af",
   "metadata": {},
   "outputs": [
    {
     "name": "stdout",
     "output_type": "stream",
     "text": [
      "The minimum and maximum values in the list [1, 2, 3, 4, 5] are: (1, 5)\n"
     ]
    }
   ],
   "source": [
    "# Find Both Minimum and Maximum in One Pass (Without min()/max())\n",
    "\n",
    "def min_max_of_list(lst):\n",
    "    min_value = max_value = lst[0]\n",
    "    for number in lst:\n",
    "        if number < min_value:\n",
    "            min_value = number\n",
    "        elif number > max_value:\n",
    "            max_value = number\n",
    "    return min_value, max_value\n",
    "\n",
    "list_of_numbers = [1, 2, 3, 4, 5]  # example list\n",
    "\n",
    "print(f\"The minimum and maximum values in the list {list_of_numbers} are: {min_max_of_list(list_of_numbers)}\")"
   ]
  },
  {
   "cell_type": "code",
   "execution_count": 20,
   "id": "8c3b5399",
   "metadata": {},
   "outputs": [
    {
     "name": "stdout",
     "output_type": "stream",
     "text": [
      "The frequency count of elements in the list [1, 2, 2, 3, 3, 3, 4, 5] is: [(1, 1), (2, 2), (3, 3), (4, 1), (5, 1)]\n"
     ]
    }
   ],
   "source": [
    "# Count Occurrences of Each Element (Frequency Count)\n",
    "\n",
    "def frequency_count(lst):\n",
    "    frequency = []\n",
    "    for number in lst:\n",
    "        if number not in frequency:\n",
    "            frequency.append(number)\n",
    "    return [(number, lst.count(number)) for number in frequency]\n",
    "\n",
    "list_of_numbers = [1, 2, 2, 3, 3, 3, 4, 5]  # example list\n",
    "\n",
    "print(f\"The frequency count of elements in the list {list_of_numbers} is: {frequency_count(list_of_numbers)}\")"
   ]
  },
  {
   "cell_type": "code",
   "execution_count": 21,
   "id": "2aa8d1e4",
   "metadata": {},
   "outputs": [
    {
     "name": "stdout",
     "output_type": "stream",
     "text": [
      "The set converted from the list [1, 2, 2, 3, 4, 5] is: {1, 2, 3, 4, 5}\n",
      "This will remove duplicates from the list and return a set.\n"
     ]
    }
   ],
   "source": [
    "# Convert List to Set (Remove Duplicates)\n",
    "\n",
    "def list_t0_set(lst):\n",
    "    return set(lst)\n",
    "\n",
    "list_of_numbers = [1, 2, 2, 3, 4, 5]  # example list\n",
    "\n",
    "print(f\"The set converted from the list {list_of_numbers} is: {list_t0_set(list_of_numbers)}\")\n",
    "print(\"This will remove duplicates from the list and return a set.\")"
   ]
  },
  {
   "cell_type": "code",
   "execution_count": 25,
   "id": "a6702b9b",
   "metadata": {},
   "outputs": [
    {
     "name": "stdout",
     "output_type": "stream",
     "text": [
      "Elements only in list a: {10, 20}\n",
      "Common elements: {4, 5}\n",
      "Unique elements: {1, 3, 5}\n"
     ]
    }
   ],
   "source": [
    "# Find Elements Only in One List (Difference Between Two Lists)\n",
    "\n",
    "a = [10, 20, 30, 40]\n",
    "b = [30, 40, 50, 60]\n",
    "\n",
    "diff = set(a) - set(b)\n",
    "print(\"Elements only in list a:\", diff)\n",
    "\n",
    "# Find Common Elements in Two Lists (Intersection of Two Lists)\n",
    "\n",
    "list1 = [1, 2, 3, 4, 5]\n",
    "list2 = [4, 5, 6, 7, 8]\n",
    "\n",
    "common = set(list1) & set(list2)\n",
    "print(\"Common elements:\", common)\n",
    "\n",
    "# Find Unique Elements in a List (Using Set Comprehension)\n",
    "\n",
    "nums = [1, 2, 2, 3, 4, 4, 5]\n",
    "unique = {x for x in nums if nums.count(x) == 1}\n",
    "print(\"Unique elements:\", unique)\n",
    "\n"
   ]
  },
  {
   "cell_type": "code",
   "execution_count": 30,
   "id": "88491d00",
   "metadata": {},
   "outputs": [
    {
     "name": "stdout",
     "output_type": "stream",
     "text": [
      "The marks for Alice are: 85\n"
     ]
    }
   ],
   "source": [
    "# Dictionary Lookup (Student Names and Marks)\n",
    "\n",
    "def get_student_marks(name):\n",
    "    dict = {'Alice': 85, 'Bob': 90, 'Charlie': 78}\n",
    "    return dict.get(name, \"Student not found\") \n",
    "\n",
    "name = input(\"Enter the student's name: \")\n",
    "print(f\"The marks for {name} are: {get_student_marks(name)}\")  \n",
    "\n"
   ]
  },
  {
   "cell_type": "code",
   "execution_count": 39,
   "id": "ff926720",
   "metadata": {},
   "outputs": [
    {
     "name": "stdout",
     "output_type": "stream",
     "text": [
      "The merged dictionary is: {'a': 1, 'b': 7, 'c': 4}\n"
     ]
    }
   ],
   "source": [
    "#  Merge Two Dictionaries\n",
    "\n",
    "def merge_dictionaries(dict1, dict2):\n",
    "    merged_dict = dict1.copy()  # Create a copy of the first dictionary\n",
    "    merged_dict.update(dict2)    # Update it with the second dictionary\n",
    "    return merged_dict\n",
    "\n",
    "# def merge_dictionaries(dict1, dict2):\n",
    "#     merged_dict = {**dict1, **dict2}\n",
    "#     return merged_dict\n",
    "\n",
    "dict1 = {'a': 1, 'b': 2}\n",
    "dict2 = {'b': 7, 'c': 4} \n",
    "\n",
    "print(f\"The merged dictionary is: {merge_dictionaries(dict1, dict2)}\")"
   ]
  },
  {
   "cell_type": "code",
   "execution_count": 43,
   "id": "1291fb2e",
   "metadata": {},
   "outputs": [
    {
     "name": "stdout",
     "output_type": "stream",
     "text": [
      "the unpack tuple is:  1 2 3 4 5\n"
     ]
    }
   ],
   "source": [
    "#  Tuple Unpacking\n",
    "\n",
    "my_tuple = (1, 2, 3, 4, 5)\n",
    "\n",
    "a, b, c, d, e = my_tuple\n",
    "\n",
    "print(\"the unpack tuple is: \", a, b, c, d, e)"
   ]
  },
  {
   "cell_type": "code",
   "execution_count": null,
   "id": "5f838f1e",
   "metadata": {},
   "outputs": [
    {
     "name": "stdout",
     "output_type": "stream",
     "text": [
      "(20, 10)\n"
     ]
    }
   ],
   "source": [
    "# swap elements in a tuple\n",
    "\n",
    "data = (10, 20)\n",
    "a, b = data\n",
    "data = (b, a)\n",
    "print(data)\n"
   ]
  },
  {
   "cell_type": "code",
   "execution_count": null,
   "id": "4b53e6b4",
   "metadata": {},
   "outputs": [
    {
     "name": "stdout",
     "output_type": "stream",
     "text": [
      "7\n"
     ]
    }
   ],
   "source": [
    "# Find the Largest Element in a List of Tuples\n",
    "\n",
    "data = ((2, 4), (1, 7), (3, 0))\n",
    "max_val = max([max(t) for t in data])\n",
    "print(max_val)\n"
   ]
  },
  {
   "cell_type": "code",
   "execution_count": 1,
   "id": "da2c904d",
   "metadata": {},
   "outputs": [
    {
     "name": "stdout",
     "output_type": "stream",
     "text": [
      "The value 2 occurs 3 times in the tuple (1, 2, 3, 2, 4, 2).\n"
     ]
    }
   ],
   "source": [
    "# Find the Occurrences of a Value in a Tuple\n",
    "\n",
    "def count_occurrences(tup, val):\n",
    "    return tup.count(val)\n",
    "\n",
    "tup = (1, 2, 3, 2, 4, 2)\n",
    "value = 2\n",
    "\n",
    "print(f\"The value {value} occurs {count_occurrences(tup, value)} times in the tuple {tup}.\")"
   ]
  },
  {
   "cell_type": "code",
   "execution_count": null,
   "id": "28edb9e3",
   "metadata": {},
   "outputs": [
    {
     "name": "stdout",
     "output_type": "stream",
     "text": [
      "The single number in the list [4, 1, 2, 1, 2] is: 4\n"
     ]
    }
   ],
   "source": [
    "# Single Number (Using dictionary)\n",
    "\n",
    "class solution(object):\n",
    "    def singleNumber(self, nums):\n",
    "        count = {}\n",
    "        for num in nums:\n",
    "            if num not in count:\n",
    "                count[num] = 1\n",
    "            else:\n",
    "                count[num] += 1\n",
    "\n",
    "        for key in count:\n",
    "            if count[key] == 1:\n",
    "                return key\n",
    "            \n",
    "nums = [4, 1, 2, 1, 2]  # example list\n",
    "\n",
    "sol = solution()\n",
    "print(f\"The single number in the list {nums} is: {sol.singleNumber(nums)}\")"
   ]
  }
 ],
 "metadata": {
  "kernelspec": {
   "display_name": "Python 3",
   "language": "python",
   "name": "python3"
  },
  "language_info": {
   "codemirror_mode": {
    "name": "ipython",
    "version": 3
   },
   "file_extension": ".py",
   "mimetype": "text/x-python",
   "name": "python",
   "nbconvert_exporter": "python",
   "pygments_lexer": "ipython3",
   "version": "3.12.1"
  }
 },
 "nbformat": 4,
 "nbformat_minor": 5
}
